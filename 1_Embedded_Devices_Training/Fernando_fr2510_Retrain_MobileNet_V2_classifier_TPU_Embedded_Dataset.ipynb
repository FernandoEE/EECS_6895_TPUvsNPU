{
 "cells": [
  {
   "cell_type": "markdown",
   "metadata": {
    "id": "h6wIJ0FxRadY"
   },
   "source": [
    "## **Retrain MobileNet V2 Classifier for Coral TPU Dev Board**\n",
    "\n",
    "Fernando Rodriguez Jr\n",
    "\n",
    "April 18th, 2023\n",
    "\n",
    "EECS 6895: Advanced Big Data and AI Intelligence"
   ]
  },
  {
   "cell_type": "markdown",
   "metadata": {
    "id": "license"
   },
   "source": [
    "NOTE: The design of the training method for this project's custom dataset was aided by examples provided by google available at https://github.com/google-coral/tutorials#colab-tutorials-for-coral"
   ]
  },
  {
   "cell_type": "markdown",
   "metadata": {
    "id": "hRTa3Ee15WsJ"
   },
   "source": [
    "# Retrain a classification model for Edge TPU using post-training quantization (with TF2)"
   ]
  },
  {
   "cell_type": "markdown",
   "metadata": {
    "id": "TaX0smDP7xQY"
   },
   "source": [
    "Goals of this code:\n",
    "1. Use TensorFlow 2 to create an image classification model\n",
    "2. Train the model with datasat comprised of Embedded Device images\n",
    "3. Convert the model to TensorFlow Lite using post-training quantization\n",
    "4. Compile the TensorFlow Lite model for compatibility with the Coral Edge TPU Development Board\n",
    "\n",
    "A base MobileNet V2 model will be repurposed for this retraining proceedure. The following steps will be taken to retrain the base model:\n",
    "1. Retrain the classification layers by reusing MobileNet's pre-trained feature extractor layers\n",
    "2. Fine-tune the model by updating weights in some of the feature extractor layers\n",
    "3. Use post-training quantization to convert all parameters to int8 format for model size reduction, inferencing speed increase, and Coral Edge TPU compatibility."
   ]
  },
  {
   "cell_type": "markdown",
   "metadata": {
    "id": "GTCYQg_be8C0"
   },
   "source": [
    "## Import the required libraries"
   ]
  },
  {
   "cell_type": "code",
   "execution_count": 1,
   "metadata": {
    "id": "iBMcobPHdD8O"
   },
   "outputs": [],
   "source": [
    "import os\n",
    "import requests\n",
    "import numpy as np\n",
    "import tensorflow as tf\n",
    "import matplotlib.pyplot as plt"
   ]
  },
  {
   "cell_type": "markdown",
   "metadata": {
    "id": "v77rlkCKW0IJ"
   },
   "source": [
    "## Download the training data from project's GitHub"
   ]
  },
  {
   "cell_type": "code",
   "execution_count": 2,
   "metadata": {
    "colab": {
     "base_uri": "https://localhost:8080/"
    },
    "id": "KPXC-xgoKpgk",
    "outputId": "df7b9e14-d0a0-4b8c-ec22-4102b9d7d745"
   },
   "outputs": [
    {
     "name": "stdout",
     "output_type": "stream",
     "text": [
      "Downloading data from https://github.com/FernandoEE/EECS_6895_TPUvsNPU/blob/main/Arty_Z7.tgz?raw=true\n",
      "16276138/16276138 [==============================] - 0s 0us/step\n"
     ]
    }
   ],
   "source": [
    "# Download Compressed Folder and Add to Dir\n",
    "_URL = \"https://github.com/FernandoEE/EECS_6895_TPUvsNPU/blob/main/Arty_Z7.tgz?raw=true\"\n",
    "\n",
    "zip_file = tf.keras.utils.get_file(origin=_URL, \n",
    "                                   fname=\"Arty_Z7.tgz\", \n",
    "                                   extract=True)"
   ]
  },
  {
   "cell_type": "code",
   "execution_count": 3,
   "metadata": {
    "colab": {
     "base_uri": "https://localhost:8080/"
    },
    "id": "yI5PyZjCPOlk",
    "outputId": "44e64fbe-9afa-4135-e4d4-bfee20a4a9d4"
   },
   "outputs": [
    {
     "name": "stdout",
     "output_type": "stream",
     "text": [
      "Downloading data from https://github.com/FernandoEE/EECS_6895_TPUvsNPU/blob/main/Basys_3.tgz?raw=true\n",
      "11984314/11984314 [==============================] - 0s 0us/step\n"
     ]
    }
   ],
   "source": [
    "# Download Compressed Folder and Add to Dir\n",
    "_URL = \"https://github.com/FernandoEE/EECS_6895_TPUvsNPU/blob/main/Basys_3.tgz?raw=true\"\n",
    "\n",
    "zip_file = tf.keras.utils.get_file(origin=_URL, \n",
    "                                   fname=\"Basys_3.tgz\", \n",
    "                                   extract=True)"
   ]
  },
  {
   "cell_type": "code",
   "execution_count": 4,
   "metadata": {
    "colab": {
     "base_uri": "https://localhost:8080/"
    },
    "id": "Qk4a4rWSPPPU",
    "outputId": "cabdaace-6595-46a5-d3dc-8b4e85663794"
   },
   "outputs": [
    {
     "name": "stdout",
     "output_type": "stream",
     "text": [
      "Downloading data from https://github.com/FernandoEE/EECS_6895_TPUvsNPU/blob/main/Feather_HUZZAH.tgz?raw=true\n",
      "22029210/22029210 [==============================] - 0s 0us/step\n"
     ]
    }
   ],
   "source": [
    "# Download Compressed Folder and Add to Dir\n",
    "_URL = \"https://github.com/FernandoEE/EECS_6895_TPUvsNPU/blob/main/Feather_HUZZAH.tgz?raw=true\"\n",
    "\n",
    "zip_file = tf.keras.utils.get_file(origin=_URL, \n",
    "                                   fname=\"Feather_HUZZAH.tgz\", \n",
    "                                   extract=True)"
   ]
  },
  {
   "cell_type": "code",
   "execution_count": 5,
   "metadata": {
    "colab": {
     "base_uri": "https://localhost:8080/"
    },
    "id": "0Sh0TB0ZPPdp",
    "outputId": "49d3b40c-82c4-4519-8a3c-8b82db17985c"
   },
   "outputs": [
    {
     "name": "stdout",
     "output_type": "stream",
     "text": [
      "Downloading data from https://github.com/FernandoEE/EECS_6895_TPUvsNPU/blob/main/Rpi_3_Model_A%2B.tgz?raw=true\n",
      "13934785/13934785 [==============================] - 0s 0us/step\n"
     ]
    }
   ],
   "source": [
    "# Download Compressed Folder and Add to Dir\n",
    "_URL = \"https://github.com/FernandoEE/EECS_6895_TPUvsNPU/blob/main/Rpi_3_Model_A%2B.tgz?raw=true\"\n",
    "\n",
    "zip_file = tf.keras.utils.get_file(origin=_URL, \n",
    "                                   fname=\"Rpi_3_Model_A%2B.tgz\", \n",
    "                                   extract=True)"
   ]
  },
  {
   "cell_type": "code",
   "execution_count": 6,
   "metadata": {
    "colab": {
     "base_uri": "https://localhost:8080/"
    },
    "id": "Q4rsD4QPPPou",
    "outputId": "e6757872-9fa8-4be8-9b22-436f3c66fde6"
   },
   "outputs": [
    {
     "name": "stdout",
     "output_type": "stream",
     "text": [
      "Downloading data from https://github.com/FernandoEE/EECS_6895_TPUvsNPU/blob/main/Rpi_4_Model_B.tgz?raw=true\n",
      "16230831/16230831 [==============================] - 0s 0us/step\n"
     ]
    }
   ],
   "source": [
    "# Download Compressed Folder and Add to Dir\n",
    "_URL = \"https://github.com/FernandoEE/EECS_6895_TPUvsNPU/blob/main/Rpi_4_Model_B.tgz?raw=true\"\n",
    "\n",
    "zip_file = tf.keras.utils.get_file(origin=_URL, \n",
    "                                   fname=\"Rpi_4_Model_B.tgz\", \n",
    "                                   extract=True)"
   ]
  },
  {
   "cell_type": "code",
   "execution_count": 7,
   "metadata": {
    "id": "vZBfOFQ0Semc"
   },
   "outputs": [],
   "source": [
    "!mkdir /root/.keras/datasets/EmbeddedBoards_Datasets # Create the Main Training Dir"
   ]
  },
  {
   "cell_type": "code",
   "execution_count": 8,
   "metadata": {
    "id": "3wDCDx4xTFqm"
   },
   "outputs": [],
   "source": [
    "training_dataset_dir = \"/root/.keras/datasets/EmbeddedBoards_Datasets\" # Make Dataset Dir the main training dir"
   ]
  },
  {
   "cell_type": "code",
   "execution_count": 9,
   "metadata": {
    "colab": {
     "base_uri": "https://localhost:8080/"
    },
    "id": "yqDI9siqqdXc",
    "outputId": "598731ab-9878-4c45-e6c2-d96ab057b2e4"
   },
   "outputs": [
    {
     "name": "stdout",
     "output_type": "stream",
     "text": [
      "Main Training Dataset Dir: /root/.keras/datasets/EmbeddedBoards_Datasets\n"
     ]
    }
   ],
   "source": [
    "print(f\"Main Training Dataset Dir: {training_dataset_dir}\")"
   ]
  },
  {
   "cell_type": "code",
   "execution_count": 10,
   "metadata": {
    "colab": {
     "base_uri": "https://localhost:8080/"
    },
    "id": "jYPc_nLlQ2zX",
    "outputId": "5f61755b-570e-453f-ad22-3bcbc73123a8"
   },
   "outputs": [
    {
     "name": "stdout",
     "output_type": "stream",
     "text": [
      "total 78692\n",
      "drwxr-xr-x 8 root root      4096 Apr 18 17:01 .\n",
      "drwxr-xr-x 1 root root      4096 Apr 18 17:01 ..\n",
      "-rwxr-xr-x 1  501 staff      249 Apr 18 15:04 ._Arty_Z7\n",
      "drwxr-xr-x 2  501 staff    12288 Apr 18 15:04 Arty_Z7\n",
      "-rw-r--r-- 1 root root  16276138 Apr 18 17:01 Arty_Z7.tgz\n",
      "-rwxr-xr-x 1  501 staff      249 Apr 18 15:04 ._Basys_3\n",
      "drwxr-xr-x 2  501 staff    12288 Apr 18 15:04 Basys_3\n",
      "-rw-r--r-- 1 root root  11984314 Apr 18 17:01 Basys_3.tgz\n",
      "drwxr-xr-x 2 root root      4096 Apr 18 17:01 EmbeddedBoards_Datasets\n",
      "-rwxr-xr-x 1  501 staff      249 Apr 18 15:09 ._Feather_HUZZAH\n",
      "drwxr-xr-x 2  501 staff    20480 Apr 18 15:09 Feather_HUZZAH\n",
      "-rw-r--r-- 1 root root  22029210 Apr 18 17:01 Feather_HUZZAH.tgz\n",
      "-rwxr-xr-x 1  501 staff      249 Apr 18 15:08 ._Rpi_3_Model_A+\n",
      "drwxr-xr-x 2  501 staff    16384 Apr 18 15:08 Rpi_3_Model_A+\n",
      "-rw-r--r-- 1 root root  13934785 Apr 18 17:01 Rpi_3_Model_A%2B.tgz\n",
      "-rwxr-xr-x 1  501 staff      249 Apr 18 15:06 ._Rpi_4_Model_B\n",
      "drwxr-xr-x 2  501 staff    20480 Apr 18 15:06 Rpi_4_Model_B\n",
      "-rw-r--r-- 1 root root  16230831 Apr 18 17:01 Rpi_4_Model_B.tgz\n"
     ]
    }
   ],
   "source": [
    "!ls -la /root/.keras/datasets/"
   ]
  },
  {
   "cell_type": "code",
   "execution_count": 12,
   "metadata": {
    "colab": {
     "base_uri": "https://localhost:8080/"
    },
    "id": "X9GE8Y3DQbzi",
    "outputId": "c45a8643-5ea9-4b34-807d-b5805b24eac6"
   },
   "outputs": [
    {
     "name": "stdout",
     "output_type": "stream",
     "text": [
      "rm: refusing to remove '.' or '..' directory: skipping '/root/.keras/datasets/.'\n",
      "rm: refusing to remove '.' or '..' directory: skipping '/root/.keras/datasets/..'\n",
      "total 92\n",
      "drwxr-xr-x 8 root root   4096 Apr 18 17:02 .\n",
      "drwxr-xr-x 1 root root   4096 Apr 18 17:01 ..\n",
      "drwxr-xr-x 2  501 staff 12288 Apr 18 15:04 Arty_Z7\n",
      "drwxr-xr-x 2  501 staff 12288 Apr 18 15:04 Basys_3\n",
      "drwxr-xr-x 2 root root   4096 Apr 18 17:01 EmbeddedBoards_Datasets\n",
      "drwxr-xr-x 2  501 staff 20480 Apr 18 15:09 Feather_HUZZAH\n",
      "drwxr-xr-x 2  501 staff 16384 Apr 18 15:08 Rpi_3_Model_A+\n",
      "drwxr-xr-x 2  501 staff 20480 Apr 18 15:06 Rpi_4_Model_B\n"
     ]
    }
   ],
   "source": [
    "# Clean Root Folder For Training\n",
    "!rm -r /root/.keras/datasets/.*\n",
    "!rm -r /root/.keras/datasets/*.tgz\n",
    "!ls -la /root/.keras/datasets/"
   ]
  },
  {
   "cell_type": "code",
   "execution_count": 17,
   "metadata": {
    "colab": {
     "base_uri": "https://localhost:8080/"
    },
    "id": "5QgnQF6zUYF0",
    "outputId": "b3584b05-95b7-4df3-9074-8e683694e04f"
   },
   "outputs": [
    {
     "name": "stdout",
     "output_type": "stream",
     "text": [
      "rm: refusing to remove '.' or '..' directory: skipping '/root/.keras/datasets/Arty_Z7/.'\n",
      "rm: refusing to remove '.' or '..' directory: skipping '/root/.keras/datasets/Arty_Z7/..'\n",
      "rm: refusing to remove '.' or '..' directory: skipping '/root/.keras/datasets/Basys_3/.'\n",
      "rm: refusing to remove '.' or '..' directory: skipping '/root/.keras/datasets/Basys_3/..'\n",
      "rm: refusing to remove '.' or '..' directory: skipping '/root/.keras/datasets/Feather_HUZZAH/.'\n",
      "rm: refusing to remove '.' or '..' directory: skipping '/root/.keras/datasets/Feather_HUZZAH/..'\n",
      "rm: refusing to remove '.' or '..' directory: skipping '/root/.keras/datasets/Rpi_3_Model_A+/.'\n",
      "rm: refusing to remove '.' or '..' directory: skipping '/root/.keras/datasets/Rpi_3_Model_A+/..'\n",
      "rm: refusing to remove '.' or '..' directory: skipping '/root/.keras/datasets/Rpi_4_Model_B/.'\n",
      "rm: refusing to remove '.' or '..' directory: skipping '/root/.keras/datasets/Rpi_4_Model_B/..'\n",
      "rm: refusing to remove '.' or '..' directory: skipping '/root/.keras/datasets/EmbeddedBoards_Datasets/.'\n",
      "rm: refusing to remove '.' or '..' directory: skipping '/root/.keras/datasets/EmbeddedBoards_Datasets/..'\n"
     ]
    }
   ],
   "source": [
    "# Clean Individual Folders For Training\n",
    "!rm -r /root/.keras/datasets/Arty_Z7/.*\n",
    "!rm -r /root/.keras/datasets/Basys_3/.*\n",
    "!rm -r /root/.keras/datasets/Feather_HUZZAH/.*\n",
    "!rm -r /root/.keras/datasets/Rpi_3_Model_A+/.*\n",
    "!rm -r /root/.keras/datasets/Rpi_4_Model_B/.*\n",
    "!rm -r /root/.keras/datasets/EmbeddedBoards_Datasets/.*"
   ]
  },
  {
   "cell_type": "code",
   "execution_count": 19,
   "metadata": {
    "id": "oGIQYDp-VbOd"
   },
   "outputs": [],
   "source": [
    "# Move Board Datasets to main Training Folder\n",
    "!mv /root/.keras/datasets/Arty_Z7/ /root/.keras/datasets/EmbeddedBoards_Datasets/\n",
    "!mv /root/.keras/datasets/Basys_3/ /root/.keras/datasets/EmbeddedBoards_Datasets/\n",
    "!mv /root/.keras/datasets/Feather_HUZZAH/ /root/.keras/datasets/EmbeddedBoards_Datasets/\n",
    "!mv /root/.keras/datasets/Rpi_3_Model_A+/ /root/.keras/datasets/EmbeddedBoards_Datasets/\n",
    "!mv /root/.keras/datasets/Rpi_4_Model_B/ /root/.keras/datasets/EmbeddedBoards_Datasets/"
   ]
  },
  {
   "cell_type": "code",
   "execution_count": 21,
   "metadata": {
    "colab": {
     "base_uri": "https://localhost:8080/"
    },
    "id": "WDes5avHV8O8",
    "outputId": "935c89e2-ddd5-4ca5-868b-c787d53c368c"
   },
   "outputs": [
    {
     "name": "stdout",
     "output_type": "stream",
     "text": [
      "total 12\n",
      "drwxr-xr-x 3 root root 4096 Apr 18 17:09 .\n",
      "drwxr-xr-x 1 root root 4096 Apr 18 17:01 ..\n",
      "drwxr-xr-x 7 root root 4096 Apr 18 17:09 EmbeddedBoards_Datasets\n",
      "total 88\n",
      "drwxr-xr-x 7 root root   4096 Apr 18 17:09 .\n",
      "drwxr-xr-x 3 root root   4096 Apr 18 17:09 ..\n",
      "drwxr-xr-x 2  501 staff 12288 Apr 18 17:04 Arty_Z7\n",
      "drwxr-xr-x 2  501 staff 12288 Apr 18 17:05 Basys_3\n",
      "drwxr-xr-x 2  501 staff 20480 Apr 18 17:05 Feather_HUZZAH\n",
      "drwxr-xr-x 2  501 staff 16384 Apr 18 17:05 Rpi_3_Model_A+\n",
      "drwxr-xr-x 2  501 staff 20480 Apr 18 17:05 Rpi_4_Model_B\n"
     ]
    }
   ],
   "source": [
    "# Verify Move of Dirs\n",
    "!ls -la  /root/.keras/datasets/\n",
    "!ls -la  /root/.keras/datasets/EmbeddedBoards_Datasets"
   ]
  },
  {
   "cell_type": "markdown",
   "metadata": {
    "id": "z4gTv7ig2vMh"
   },
   "source": [
    "* Use [`ImageDataGenerator`](https://www.tensorflow.org/api_docs/python/tf/keras/preprocessing/image/ImageDataGenerator) to rescale the image data into float values (divide by 255 so the tensor values are between 0 and 1)\n",
    "* Call `flow_from_directory()` to create two generators: one for the training dataset and one for the validation dataset.\n"
   ]
  },
  {
   "cell_type": "code",
   "execution_count": 22,
   "metadata": {
    "colab": {
     "base_uri": "https://localhost:8080/"
    },
    "id": "aCLb_yV5JfF3",
    "outputId": "14dda628-5fb1-44d3-a0bc-5cb68d2eb110"
   },
   "outputs": [
    {
     "name": "stdout",
     "output_type": "stream",
     "text": [
      "<keras.preprocessing.image.ImageDataGenerator object at 0x7f7894a4e940>\n",
      "Found 700 images belonging to 5 classes.\n",
      "Found 296 images belonging to 5 classes.\n"
     ]
    }
   ],
   "source": [
    "IMAGE_SIZE = 224\n",
    "BATCH_SIZE = 64\n",
    "\n",
    "\n",
    "datagen = tf.keras.preprocessing.image.ImageDataGenerator(\n",
    "    rescale=1./255, \n",
    "    validation_split=0.3)\n",
    "\n",
    "print(datagen)\n",
    "\n",
    "train_generator = datagen.flow_from_directory(\n",
    "    training_dataset_dir,\n",
    "    target_size=(IMAGE_SIZE, IMAGE_SIZE),\n",
    "    batch_size=BATCH_SIZE, \n",
    "    save_format='jpg',\n",
    "    subset='training')\n",
    "\n",
    "val_generator = datagen.flow_from_directory(\n",
    "    training_dataset_dir,\n",
    "    target_size=(IMAGE_SIZE, IMAGE_SIZE),\n",
    "    batch_size=BATCH_SIZE, \n",
    "    save_format='jpg',\n",
    "    subset='validation')"
   ]
  },
  {
   "cell_type": "markdown",
   "metadata": {
    "id": "VePDZC5Bh2mO"
   },
   "source": [
    "\n",
    "On each iteration, these generators provide a batch of images by reading images from disk and processing them to the proper tensor size (224 x 224). The output is a tuple of (images, labels). For example, you can see the shapes here:"
   ]
  },
  {
   "cell_type": "code",
   "execution_count": 23,
   "metadata": {
    "colab": {
     "base_uri": "https://localhost:8080/"
    },
    "id": "tx1L7fxxWA_G",
    "outputId": "26621255-0a7c-48ad-efb9-48c068ba7680"
   },
   "outputs": [
    {
     "data": {
      "text/plain": [
       "((64, 224, 224, 3), (64, 5))"
      ]
     },
     "execution_count": 23,
     "metadata": {},
     "output_type": "execute_result"
    }
   ],
   "source": [
    "image_batch, label_batch = next(val_generator)\n",
    "image_batch.shape, label_batch.shape"
   ]
  },
  {
   "cell_type": "code",
   "execution_count": 24,
   "metadata": {
    "colab": {
     "base_uri": "https://localhost:8080/"
    },
    "id": "7R3XmfRNUtCG",
    "outputId": "4925275c-a141-4b58-dd61-013dfbea58da"
   },
   "outputs": [
    {
     "data": {
      "text/plain": [
       "((64, 224, 224, 3), (64, 5))"
      ]
     },
     "execution_count": 24,
     "metadata": {},
     "output_type": "execute_result"
    }
   ],
   "source": [
    "image_batch, label_batch = next(train_generator)\n",
    "image_batch.shape, label_batch.shape"
   ]
  },
  {
   "cell_type": "markdown",
   "metadata": {
    "id": "ZrFFcwUb3iK9"
   },
   "source": [
    "Now save the class labels to a text file:"
   ]
  },
  {
   "cell_type": "code",
   "execution_count": 27,
   "metadata": {
    "colab": {
     "base_uri": "https://localhost:8080/"
    },
    "id": "-QFZIhWs4dsq",
    "outputId": "24783e3b-ab47-4c06-d68a-ed04537422f2"
   },
   "outputs": [
    {
     "name": "stdout",
     "output_type": "stream",
     "text": [
      "{'Arty_Z7': 0, 'Basys_3': 1, 'Feather_HUZZAH': 2, 'Rpi_3_Model_A+': 3, 'Rpi_4_Model_B': 4}\n"
     ]
    }
   ],
   "source": [
    "print (train_generator.class_indices)\n",
    "\n",
    "labels = '\\n'.join(sorted(train_generator.class_indices.keys()))\n",
    "\n",
    "with open('Embedded_Devices_Class_Labels.txt', 'w') as f:\n",
    "  f.write(labels)"
   ]
  },
  {
   "cell_type": "code",
   "execution_count": 28,
   "metadata": {
    "colab": {
     "base_uri": "https://localhost:8080/"
    },
    "id": "duxD_UDSOmng",
    "outputId": "724d5337-c327-41bd-bad3-8b913ab86f6c"
   },
   "outputs": [
    {
     "name": "stdout",
     "output_type": "stream",
     "text": [
      "Arty_Z7\n",
      "Basys_3\n",
      "Feather_HUZZAH\n",
      "Rpi_3_Model_A+\n",
      "Rpi_4_Model_B"
     ]
    }
   ],
   "source": [
    "!cat Embedded_Devices_Class_Labels.txt"
   ]
  },
  {
   "cell_type": "markdown",
   "metadata": {
    "id": "OkH-kazQecHB"
   },
   "source": [
    "## Build the model\n",
    "\n",
    "* Create a model that's capable of transfer learning on just the last fully-connected layer\n",
    "\n",
    "* Will use a MobileNet V2 from Keras as the base model\n",
    "  * This is a pre-trained with the ImageNet dataset (trained to recognize 1,000 classes)\n",
    "  * Provides us a great feature extractor for image classification that can be sued to train a new classification layer for the embedded devices dataset\n",
    "\n"
   ]
  },
  {
   "cell_type": "code",
   "execution_count": 29,
   "metadata": {
    "colab": {
     "base_uri": "https://localhost:8080/"
    },
    "id": "19IQ2gqneqmS",
    "outputId": "e4ae576e-cc7c-466b-84ec-5a44cc26c6a6"
   },
   "outputs": [
    {
     "name": "stdout",
     "output_type": "stream",
     "text": [
      "Downloading data from https://storage.googleapis.com/tensorflow/keras-applications/mobilenet_v2/mobilenet_v2_weights_tf_dim_ordering_tf_kernels_1.0_224_no_top.h5\n",
      "9406464/9406464 [==============================] - 1s 0us/step\n"
     ]
    }
   ],
   "source": [
    "IMG_SHAPE = (IMAGE_SIZE, IMAGE_SIZE, 3)\n",
    "\n",
    "# Create the base model from the pre-trained MobileNet V2\n",
    "base_model = tf.keras.applications.MobileNetV2(input_shape=IMG_SHAPE,\n",
    "                                              include_top=False, \n",
    "                                              weights='imagenet')\n",
    "base_model.trainable = False"
   ]
  },
  {
   "cell_type": "markdown",
   "metadata": {
    "id": "wdMRM8YModbk"
   },
   "source": [
    "### Add a classification head"
   ]
  },
  {
   "cell_type": "code",
   "execution_count": 30,
   "metadata": {
    "id": "eApvroIyn1K0"
   },
   "outputs": [],
   "source": [
    "model = tf.keras.Sequential([\n",
    "  base_model,\n",
    "  tf.keras.layers.Conv2D(filters=32, kernel_size=3, activation='relu'),\n",
    "  tf.keras.layers.Dropout(0.2),\n",
    "  tf.keras.layers.GlobalAveragePooling2D(),\n",
    "  tf.keras.layers.Dense(units=5, activation='softmax')\n",
    "])"
   ]
  },
  {
   "cell_type": "markdown",
   "metadata": {
    "id": "g0ylJXE_kRLi"
   },
   "source": [
    "### Configure the model"
   ]
  },
  {
   "cell_type": "code",
   "execution_count": 31,
   "metadata": {
    "id": "RpR8HdyMhukJ"
   },
   "outputs": [],
   "source": [
    "model.compile(optimizer='adam', \n",
    "              loss='categorical_crossentropy', \n",
    "              metrics=['accuracy'])"
   ]
  },
  {
   "cell_type": "code",
   "execution_count": 32,
   "metadata": {
    "colab": {
     "base_uri": "https://localhost:8080/"
    },
    "id": "I8ARiyMFsgbH",
    "outputId": "5ce776b7-d94b-4506-bb8c-3b0b9cb6f04d"
   },
   "outputs": [
    {
     "name": "stdout",
     "output_type": "stream",
     "text": [
      "Model: \"sequential\"\n",
      "_________________________________________________________________\n",
      " Layer (type)                Output Shape              Param #   \n",
      "=================================================================\n",
      " mobilenetv2_1.00_224 (Funct  (None, 7, 7, 1280)       2257984   \n",
      " ional)                                                          \n",
      "                                                                 \n",
      " conv2d (Conv2D)             (None, 5, 5, 32)          368672    \n",
      "                                                                 \n",
      " dropout (Dropout)           (None, 5, 5, 32)          0         \n",
      "                                                                 \n",
      " global_average_pooling2d (G  (None, 32)               0         \n",
      " lobalAveragePooling2D)                                          \n",
      "                                                                 \n",
      " dense (Dense)               (None, 5)                 165       \n",
      "                                                                 \n",
      "=================================================================\n",
      "Total params: 2,626,821\n",
      "Trainable params: 368,837\n",
      "Non-trainable params: 2,257,984\n",
      "_________________________________________________________________\n"
     ]
    }
   ],
   "source": [
    "model.summary()"
   ]
  },
  {
   "cell_type": "code",
   "execution_count": 33,
   "metadata": {
    "colab": {
     "base_uri": "https://localhost:8080/"
    },
    "id": "krvBumovycVA",
    "outputId": "ca468d76-d55a-4967-b8e7-25529b0bdf2e"
   },
   "outputs": [
    {
     "name": "stdout",
     "output_type": "stream",
     "text": [
      "Number of trainable weights = 4\n"
     ]
    }
   ],
   "source": [
    "print('Number of trainable weights = {}'.format(len(model.trainable_weights)))"
   ]
  },
  {
   "cell_type": "markdown",
   "metadata": {
    "id": "RxvgOYTDSWTx"
   },
   "source": [
    "## Train the model\n"
   ]
  },
  {
   "cell_type": "markdown",
   "metadata": {
    "id": "kBRNaOCCoA-P"
   },
   "source": [
    "* Training of the model using the `train_generator` and `val_generator` datasets"
   ]
  },
  {
   "cell_type": "code",
   "execution_count": 34,
   "metadata": {
    "colab": {
     "base_uri": "https://localhost:8080/"
    },
    "id": "bTL_f8NfGtbb",
    "outputId": "305a43fc-b8ab-4cd6-900a-5d67e80ea741"
   },
   "outputs": [
    {
     "name": "stdout",
     "output_type": "stream",
     "text": [
      "11\n",
      "<keras.preprocessing.image.DirectoryIterator object at 0x7f7894a4eb80>\n",
      "5\n",
      "<keras.preprocessing.image.DirectoryIterator object at 0x7f7894a4ef40>\n"
     ]
    }
   ],
   "source": [
    "print(len(train_generator))\n",
    "print(train_generator)\n",
    "\n",
    "print(len(val_generator))\n",
    "print(val_generator)"
   ]
  },
  {
   "cell_type": "code",
   "execution_count": 35,
   "metadata": {
    "colab": {
     "base_uri": "https://localhost:8080/"
    },
    "id": "JsaRFlZ9B6WK",
    "outputId": "883b04f9-5c1b-4f10-9872-9660052813ee"
   },
   "outputs": [
    {
     "name": "stdout",
     "output_type": "stream",
     "text": [
      "Epoch 1/10\n",
      "11/11 [==============================] - 22s 909ms/step - loss: 0.9089 - accuracy: 0.7200 - val_loss: 0.1979 - val_accuracy: 0.9223\n",
      "Epoch 2/10\n",
      "11/11 [==============================] - 7s 640ms/step - loss: 0.0927 - accuracy: 0.9657 - val_loss: 0.0535 - val_accuracy: 0.9865\n",
      "Epoch 3/10\n",
      "11/11 [==============================] - 8s 711ms/step - loss: 0.0182 - accuracy: 0.9957 - val_loss: 0.0369 - val_accuracy: 0.9932\n",
      "Epoch 4/10\n",
      "11/11 [==============================] - 10s 937ms/step - loss: 0.0043 - accuracy: 1.0000 - val_loss: 0.0215 - val_accuracy: 0.9899\n",
      "Epoch 5/10\n",
      "11/11 [==============================] - 7s 695ms/step - loss: 0.0026 - accuracy: 1.0000 - val_loss: 0.0257 - val_accuracy: 0.9899\n",
      "Epoch 6/10\n",
      "11/11 [==============================] - 7s 628ms/step - loss: 0.0011 - accuracy: 1.0000 - val_loss: 0.0278 - val_accuracy: 0.9899\n",
      "Epoch 7/10\n",
      "11/11 [==============================] - 8s 713ms/step - loss: 7.8976e-04 - accuracy: 1.0000 - val_loss: 0.0217 - val_accuracy: 0.9899\n",
      "Epoch 8/10\n",
      "11/11 [==============================] - 7s 631ms/step - loss: 8.0143e-04 - accuracy: 1.0000 - val_loss: 0.0206 - val_accuracy: 0.9899\n",
      "Epoch 9/10\n",
      "11/11 [==============================] - 7s 647ms/step - loss: 9.0239e-04 - accuracy: 1.0000 - val_loss: 0.0216 - val_accuracy: 0.9899\n",
      "Epoch 10/10\n",
      "11/11 [==============================] - 7s 636ms/step - loss: 5.0969e-04 - accuracy: 1.0000 - val_loss: 0.0210 - val_accuracy: 0.9899\n"
     ]
    }
   ],
   "source": [
    "history = model.fit(train_generator,\n",
    "                    steps_per_epoch=len(train_generator), \n",
    "                    epochs=10,\n",
    "                    validation_data=val_generator,\n",
    "                    validation_steps=len(val_generator))"
   ]
  },
  {
   "cell_type": "markdown",
   "metadata": {
    "id": "Hd94CKImf8vi"
   },
   "source": [
    "### Review the learning curves\n"
   ]
  },
  {
   "cell_type": "code",
   "execution_count": 36,
   "metadata": {
    "colab": {
     "base_uri": "https://localhost:8080/",
     "height": 718
    },
    "id": "53OTCh3jnbwV",
    "outputId": "ef8cda66-d93e-4e71-be91-912601fa7897"
   },
   "outputs": [
    {
     "data": {
      "image/png": "[encoded data removed]",
      "text/plain": [
       "<Figure size 800x800 with 2 Axes>"
      ]
     },
     "metadata": {},
     "output_type": "display_data"
    }
   ],
   "source": [
    "acc = history.history['accuracy']\n",
    "val_acc = history.history['val_accuracy']\n",
    "\n",
    "loss = history.history['loss']\n",
    "val_loss = history.history['val_loss']\n",
    "\n",
    "plt.figure(figsize=(8, 8))\n",
    "plt.subplot(2, 1, 1)\n",
    "plt.plot(acc, label='Training Accuracy')\n",
    "plt.plot(val_acc, label='Validation Accuracy')\n",
    "plt.legend(loc='lower right')\n",
    "plt.ylabel('Accuracy')\n",
    "plt.ylim([min(plt.ylim()),1])\n",
    "plt.title('Training and Validation Accuracy')\n",
    "\n",
    "plt.subplot(2, 1, 2)\n",
    "plt.plot(loss, label='Training Loss')\n",
    "plt.plot(val_loss, label='Validation Loss')\n",
    "plt.legend(loc='upper right')\n",
    "plt.ylabel('Cross Entropy')\n",
    "plt.ylim([0,1.0])\n",
    "plt.title('Training and Validation Loss')\n",
    "plt.xlabel('epoch')\n",
    "plt.show()"
   ]
  },
  {
   "cell_type": "markdown",
   "metadata": {
    "id": "CqwV-CRdS6Nv"
   },
   "source": [
    "## Fine tune the base model\n"
   ]
  },
  {
   "cell_type": "markdown",
   "metadata": {
    "id": "CPXnzUK0QonF"
   },
   "source": [
    "### Un-freeze model layers\n"
   ]
  },
  {
   "cell_type": "code",
   "execution_count": 37,
   "metadata": {
    "colab": {
     "base_uri": "https://localhost:8080/"
    },
    "id": "4nzcagVitLQm",
    "outputId": "177daef8-688b-4e03-bdab-2a23ac2efdbe"
   },
   "outputs": [
    {
     "name": "stdout",
     "output_type": "stream",
     "text": [
      "Number of layers in the base model:  154\n"
     ]
    }
   ],
   "source": [
    "print(\"Number of layers in the base model: \", len(base_model.layers))"
   ]
  },
  {
   "cell_type": "code",
   "execution_count": 38,
   "metadata": {
    "id": "-4HgVAacRs5v"
   },
   "outputs": [],
   "source": [
    "# Freeze the bottom 100 layers\n",
    "base_model.trainable = True\n",
    "fine_tune_at = 100\n",
    "\n",
    "# Freeze all the layers before the `fine_tune_at` layer\n",
    "for layer in base_model.layers[:fine_tune_at]:\n",
    "  layer.trainable =  False"
   ]
  },
  {
   "cell_type": "markdown",
   "metadata": {
    "id": "4Uk1dgsxT0IS"
   },
   "source": [
    "### Reconfigure the model"
   ]
  },
  {
   "cell_type": "code",
   "execution_count": 39,
   "metadata": {
    "id": "NtUnaz0WUDva"
   },
   "outputs": [],
   "source": [
    "model.compile(optimizer=tf.keras.optimizers.Adam(1e-5),\n",
    "              loss='categorical_crossentropy',\n",
    "              metrics=['accuracy'])"
   ]
  },
  {
   "cell_type": "code",
   "execution_count": 40,
   "metadata": {
    "colab": {
     "base_uri": "https://localhost:8080/"
    },
    "id": "WwBWy7J2kZvA",
    "outputId": "5c92fc27-e00e-4985-b759-d679cf5e6276"
   },
   "outputs": [
    {
     "name": "stdout",
     "output_type": "stream",
     "text": [
      "Model: \"sequential\"\n",
      "_________________________________________________________________\n",
      " Layer (type)                Output Shape              Param #   \n",
      "=================================================================\n",
      " mobilenetv2_1.00_224 (Funct  (None, 7, 7, 1280)       2257984   \n",
      " ional)                                                          \n",
      "                                                                 \n",
      " conv2d (Conv2D)             (None, 5, 5, 32)          368672    \n",
      "                                                                 \n",
      " dropout (Dropout)           (None, 5, 5, 32)          0         \n",
      "                                                                 \n",
      " global_average_pooling2d (G  (None, 32)               0         \n",
      " lobalAveragePooling2D)                                          \n",
      "                                                                 \n",
      " dense (Dense)               (None, 5)                 165       \n",
      "                                                                 \n",
      "=================================================================\n",
      "Total params: 2,626,821\n",
      "Trainable params: 2,230,277\n",
      "Non-trainable params: 396,544\n",
      "_________________________________________________________________\n"
     ]
    }
   ],
   "source": [
    "model.summary()"
   ]
  },
  {
   "cell_type": "code",
   "execution_count": 41,
   "metadata": {
    "colab": {
     "base_uri": "https://localhost:8080/"
    },
    "id": "bNXelbMQtonr",
    "outputId": "d7137282-4684-4617-c524-4a9859d34bcd"
   },
   "outputs": [
    {
     "name": "stdout",
     "output_type": "stream",
     "text": [
      "Number of trainable weights = 58\n"
     ]
    }
   ],
   "source": [
    "print('Number of trainable weights = {}'.format(len(model.trainable_weights)))"
   ]
  },
  {
   "cell_type": "markdown",
   "metadata": {
    "id": "4G5O4jd6TuAG"
   },
   "source": [
    "### Continue training"
   ]
  },
  {
   "cell_type": "code",
   "execution_count": 42,
   "metadata": {
    "colab": {
     "base_uri": "https://localhost:8080/"
    },
    "id": "PiXbLb1O8IDy",
    "outputId": "af6a62b0-4ec4-4f44-e28f-ee803fc46abd"
   },
   "outputs": [
    {
     "name": "stdout",
     "output_type": "stream",
     "text": [
      "Epoch 1/5\n",
      "11/11 [==============================] - 22s 815ms/step - loss: 0.4359 - accuracy: 0.8500 - val_loss: 0.0273 - val_accuracy: 0.9899\n",
      "Epoch 2/5\n",
      "11/11 [==============================] - 8s 723ms/step - loss: 0.0854 - accuracy: 0.9657 - val_loss: 0.0298 - val_accuracy: 0.9899\n",
      "Epoch 3/5\n",
      "11/11 [==============================] - 8s 713ms/step - loss: 0.0300 - accuracy: 0.9957 - val_loss: 0.0302 - val_accuracy: 0.9899\n",
      "Epoch 4/5\n",
      "11/11 [==============================] - 7s 638ms/step - loss: 0.0172 - accuracy: 0.9957 - val_loss: 0.0299 - val_accuracy: 0.9899\n",
      "Epoch 5/5\n",
      "11/11 [==============================] - 8s 733ms/step - loss: 0.0107 - accuracy: 1.0000 - val_loss: 0.0293 - val_accuracy: 0.9899\n"
     ]
    }
   ],
   "source": [
    "history_fine = model.fit(train_generator,\n",
    "                         steps_per_epoch=len(train_generator), \n",
    "                         epochs=5,\n",
    "                         validation_data=val_generator,\n",
    "                         validation_steps=len(val_generator))"
   ]
  },
  {
   "cell_type": "markdown",
   "metadata": {
    "id": "xqIjZvhBBJNn"
   },
   "source": [
    "### Review the new learning curves"
   ]
  },
  {
   "cell_type": "code",
   "execution_count": 43,
   "metadata": {
    "colab": {
     "base_uri": "https://localhost:8080/",
     "height": 718
    },
    "id": "chW103JUItdk",
    "outputId": "2ee488e6-9750-45ed-edb2-8b0ca761f471"
   },
   "outputs": [
    {
     "data": {
      "image/png": "[encoded data removed]",
      "text/plain": [
       "<Figure size 800x800 with 2 Axes>"
      ]
     },
     "metadata": {},
     "output_type": "display_data"
    }
   ],
   "source": [
    "acc = history_fine.history['accuracy']\n",
    "val_acc = history_fine.history['val_accuracy']\n",
    "\n",
    "loss = history_fine.history['loss']\n",
    "val_loss = history_fine.history['val_loss']\n",
    "\n",
    "plt.figure(figsize=(8, 8))\n",
    "plt.subplot(2, 1, 1)\n",
    "plt.plot(acc, label='Training Accuracy')\n",
    "plt.plot(val_acc, label='Validation Accuracy')\n",
    "plt.legend(loc='lower right')\n",
    "plt.ylabel('Accuracy')\n",
    "plt.ylim([min(plt.ylim()),1])\n",
    "plt.title('Training and Validation Accuracy')\n",
    "\n",
    "plt.subplot(2, 1, 2)\n",
    "plt.plot(loss, label='Training Loss')\n",
    "plt.plot(val_loss, label='Validation Loss')\n",
    "plt.legend(loc='upper right')\n",
    "plt.ylabel('Cross Entropy')\n",
    "plt.ylim([0,1.0])\n",
    "plt.title('Training and Validation Loss')\n",
    "plt.xlabel('epoch')\n",
    "plt.show()"
   ]
  },
  {
   "cell_type": "markdown",
   "metadata": {
    "id": "kRDabW_u1wnv"
   },
   "source": [
    "## Convert to TFLite"
   ]
  },
  {
   "cell_type": "code",
   "execution_count": 44,
   "metadata": {
    "colab": {
     "base_uri": "https://localhost:8080/"
    },
    "id": "srOYhMYfx9XH",
    "outputId": "8520c268-cc5c-4d66-b60a-a9c51347aa57"
   },
   "outputs": [
    {
     "name": "stderr",
     "output_type": "stream",
     "text": [
      "WARNING:absl:Function `_wrapped_model` contains input name(s) mobilenetv2_1.00_224_input with unsupported characters which will be renamed to mobilenetv2_1_00_224_input in the SavedModel.\n",
      "WARNING:absl:`mobilenetv2_1.00_224_input` is not a valid tf.function parameter name. Sanitizing to `mobilenetv2_1_00_224_input`.\n",
      "WARNING:absl:`mobilenetv2_1.00_224_input` is not a valid tf.function parameter name. Sanitizing to `mobilenetv2_1_00_224_input`.\n",
      "WARNING:absl:`mobilenetv2_1.00_224_input` is not a valid tf.function parameter name. Sanitizing to `mobilenetv2_1_00_224_input`.\n",
      "WARNING:absl:Found untraced functions such as _jit_compiled_convolution_op, _jit_compiled_convolution_op, _jit_compiled_convolution_op, _jit_compiled_convolution_op, _jit_compiled_convolution_op while saving (showing 5 of 53). These functions will not be directly callable after loading.\n"
     ]
    }
   ],
   "source": [
    "converter = tf.lite.TFLiteConverter.from_keras_model(model)\n",
    "tflite_model = converter.convert()\n",
    "\n",
    "with open('Embedded_Devices_mobilenet_v2_1.0_224.tflite', 'wb') as f:\n",
    "  f.write(tflite_model)"
   ]
  },
  {
   "cell_type": "code",
   "execution_count": 45,
   "metadata": {
    "colab": {
     "base_uri": "https://localhost:8080/"
    },
    "id": "w9ydAmHGHUZl",
    "outputId": "76d9c9ff-873d-4dcc-812f-33d6b049484f"
   },
   "outputs": [
    {
     "name": "stderr",
     "output_type": "stream",
     "text": [
      "WARNING:absl:Function `_wrapped_model` contains input name(s) mobilenetv2_1.00_224_input with unsupported characters which will be renamed to mobilenetv2_1_00_224_input in the SavedModel.\n",
      "WARNING:absl:`mobilenetv2_1.00_224_input` is not a valid tf.function parameter name. Sanitizing to `mobilenetv2_1_00_224_input`.\n",
      "WARNING:absl:`mobilenetv2_1.00_224_input` is not a valid tf.function parameter name. Sanitizing to `mobilenetv2_1_00_224_input`.\n",
      "WARNING:absl:Found untraced functions such as _jit_compiled_convolution_op, _jit_compiled_convolution_op, _jit_compiled_convolution_op, _jit_compiled_convolution_op, _jit_compiled_convolution_op while saving (showing 5 of 53). These functions will not be directly callable after loading.\n",
      "/usr/local/lib/python3.9/dist-packages/tensorflow/lite/python/convert.py:789: UserWarning: Statistics for quantized inputs were expected, but not specified; continuing anyway.\n",
      "  warnings.warn(\"Statistics for quantized inputs were expected, but not \"\n"
     ]
    }
   ],
   "source": [
    "# A generator that provides a representative dataset\n",
    "def representative_data_gen():\n",
    "  dataset_list = tf.data.Dataset.list_files(training_dataset_dir + '/*/*')\n",
    "  for i in range(100):\n",
    "    image = next(iter(dataset_list))\n",
    "    image = tf.io.read_file(image)\n",
    "    image = tf.io.decode_jpeg(image, channels=3)\n",
    "    image = tf.image.resize(image, [IMAGE_SIZE, IMAGE_SIZE])\n",
    "    image = tf.cast(image / 255., tf.float32)\n",
    "    image = tf.expand_dims(image, 0)\n",
    "    yield [image]\n",
    "\n",
    "converter = tf.lite.TFLiteConverter.from_keras_model(model)\n",
    "# This enables quantization\n",
    "converter.optimizations = [tf.lite.Optimize.DEFAULT]\n",
    "# This sets the representative dataset for quantization\n",
    "converter.representative_dataset = representative_data_gen\n",
    "# This ensures that if any ops can't be quantized, the converter throws an error\n",
    "converter.target_spec.supported_ops = [tf.lite.OpsSet.TFLITE_BUILTINS_INT8]\n",
    "# For full integer quantization, though supported types defaults to int8 only, we explicitly declare it for clarity.\n",
    "converter.target_spec.supported_types = [tf.int8]\n",
    "# These set the input and output tensors to uint8 (added in r2.3)\n",
    "converter.inference_input_type = tf.uint8\n",
    "converter.inference_output_type = tf.uint8\n",
    "tflite_model = converter.convert()\n",
    "\n",
    "with open('Embedded_Devices_mobilenet_v2_1.0_224_quant.tflite', 'wb') as f:\n",
    "  f.write(tflite_model)"
   ]
  },
  {
   "cell_type": "markdown",
   "metadata": {
    "id": "RMLYBDe_e849"
   },
   "source": [
    "### Compare the accuracy\n"
   ]
  },
  {
   "cell_type": "code",
   "execution_count": 46,
   "metadata": {
    "colab": {
     "base_uri": "https://localhost:8080/"
    },
    "id": "RkQ2IlAWfC5O",
    "outputId": "657b8f2e-86b1-4871-8529-9ee615c0009b"
   },
   "outputs": [
    {
     "name": "stdout",
     "output_type": "stream",
     "text": [
      "Raw model accuracy: 96.875%\n"
     ]
    }
   ],
   "source": [
    "batch_images, batch_labels = next(val_generator)\n",
    "\n",
    "logits = model(batch_images)\n",
    "prediction = np.argmax(logits, axis=1)\n",
    "truth = np.argmax(batch_labels, axis=1)\n",
    "\n",
    "keras_accuracy = tf.keras.metrics.Accuracy()\n",
    "keras_accuracy(prediction, truth)\n",
    "\n",
    "print(\"Raw model accuracy: {:.3%}\".format(keras_accuracy.result()))"
   ]
  },
  {
   "cell_type": "code",
   "execution_count": 47,
   "metadata": {
    "colab": {
     "base_uri": "https://localhost:8080/"
    },
    "id": "iBs0O7q_wlCN",
    "outputId": "cde7e4a0-f875-4388-d7df-9896713596e5"
   },
   "outputs": [
    {
     "name": "stdout",
     "output_type": "stream",
     "text": [
      "Quant TF Lite accuracy: 96.875%\n"
     ]
    }
   ],
   "source": [
    "def set_input_tensor(interpreter, input):\n",
    "  input_details = interpreter.get_input_details()[0]\n",
    "  tensor_index = input_details['index']\n",
    "  input_tensor = interpreter.tensor(tensor_index)()[0]\n",
    "  # Inputs for the TFLite model must be uint8, so we quantize our input data.\n",
    "  # NOTE: This step is necessary only because we're receiving input data from\n",
    "  # ImageDataGenerator, which rescaled all image data to float [0,1]. When using\n",
    "  # bitmap inputs, they're already uint8 [0,255] so this can be replaced with:\n",
    "  #   input_tensor[:, :] = input\n",
    "  scale, zero_point = input_details['quantization']\n",
    "  input_tensor[:, :] = np.uint8(input / scale + zero_point)\n",
    "\n",
    "def classify_image(interpreter, input):\n",
    "  set_input_tensor(interpreter, input)\n",
    "  interpreter.invoke()\n",
    "  output_details = interpreter.get_output_details()[0]\n",
    "  output = interpreter.get_tensor(output_details['index'])\n",
    "  # Outputs from the TFLite model are uint8, so we dequantize the results:\n",
    "  scale, zero_point = output_details['quantization']\n",
    "  output = scale * (output - zero_point)\n",
    "  top_1 = np.argmax(output)\n",
    "  return top_1\n",
    "\n",
    "interpreter = tf.lite.Interpreter('Embedded_Devices_mobilenet_v2_1.0_224_quant.tflite')\n",
    "interpreter.allocate_tensors()\n",
    "\n",
    "# Collect all inference predictions in a list\n",
    "batch_prediction = []\n",
    "batch_truth = np.argmax(batch_labels, axis=1)\n",
    "\n",
    "for i in range(len(batch_images)):\n",
    "  prediction = classify_image(interpreter, batch_images[i])\n",
    "  batch_prediction.append(prediction)\n",
    "\n",
    "# Compare all predictions to the ground truth\n",
    "tflite_accuracy = tf.keras.metrics.Accuracy()\n",
    "tflite_accuracy(batch_prediction, batch_truth)\n",
    "print(\"Quant TF Lite accuracy: {:.3%}\".format(tflite_accuracy.result()))\n"
   ]
  },
  {
   "cell_type": "markdown",
   "metadata": {
    "id": "ZmiHICezwXZq"
   },
   "source": [
    "## Compile for the Edge TPU\n"
   ]
  },
  {
   "cell_type": "markdown",
   "metadata": {
    "id": "DhOzAdzF3Dyk"
   },
   "source": [
    "* Download Location of [Edge TPU Compiler](https://coral.ai/docs/edgetpu/compiler/)"
   ]
  },
  {
   "cell_type": "code",
   "execution_count": 48,
   "metadata": {
    "colab": {
     "base_uri": "https://localhost:8080/"
    },
    "id": "p6ZpWgrk21Ad",
    "outputId": "8d983f7f-aeb5-4204-8872-dfc9ecdfe0bd"
   },
   "outputs": [
    {
     "name": "stdout",
     "output_type": "stream",
     "text": [
      "  % Total    % Received % Xferd  Average Speed   Time    Time     Time  Current\n",
      "                                 Dload  Upload   Total   Spent    Left  Speed\n",
      "\r",
      "  0     0    0     0    0     0      0      0 --:--:-- --:--:-- --:--:--     0\r",
      "100  1210  100  1210    0     0  46538      0 --:--:-- --:--:-- --:--:-- 46538\n",
      "OK\n",
      "deb https://packages.cloud.google.com/apt coral-edgetpu-stable main\n",
      "Hit:1 http://ppa.launchpad.net/c2d4u.team/c2d4u4.0+/ubuntu focal InRelease\n",
      "Get:2 http://security.ubuntu.com/ubuntu focal-security InRelease [114 kB]\n",
      "Get:3 https://cloud.r-project.org/bin/linux/ubuntu focal-cran40/ InRelease [3,622 B]\n",
      "Hit:4 http://ppa.launchpad.net/cran/libgit2/ubuntu focal InRelease\n",
      "Get:5 http://ppa.launchpad.net/deadsnakes/ppa/ubuntu focal InRelease [18.1 kB]\n",
      "Get:6 https://developer.download.nvidia.com/compute/cuda/repos/ubuntu2004/x86_64  InRelease [1,581 B]\n",
      "Get:7 http://ppa.launchpad.net/graphics-drivers/ppa/ubuntu focal InRelease [24.3 kB]\n",
      "Hit:8 http://ppa.launchpad.net/ubuntugis/ppa/ubuntu focal InRelease\n",
      "Hit:9 http://archive.ubuntu.com/ubuntu focal InRelease\n",
      "Get:10 http://archive.ubuntu.com/ubuntu focal-updates InRelease [114 kB]\n",
      "Get:11 https://packages.cloud.google.com/apt coral-edgetpu-stable InRelease [6,332 B]\n",
      "Get:12 http://ppa.launchpad.net/deadsnakes/ppa/ubuntu focal/main amd64 Packages [29.5 kB]\n",
      "Get:13 http://security.ubuntu.com/ubuntu focal-security/universe amd64 Packages [1,029 kB]\n",
      "Get:14 http://security.ubuntu.com/ubuntu focal-security/main amd64 Packages [2,593 kB]\n",
      "Get:15 https://developer.download.nvidia.com/compute/cuda/repos/ubuntu2004/x86_64  Packages [975 kB]\n",
      "Get:16 http://archive.ubuntu.com/ubuntu focal-backports InRelease [108 kB]\n",
      "Get:17 http://ppa.launchpad.net/graphics-drivers/ppa/ubuntu focal/main amd64 Packages [46.7 kB]\n",
      "Get:18 https://packages.cloud.google.com/apt coral-edgetpu-stable/main amd64 Packages [2,317 B]\n",
      "Get:19 http://archive.ubuntu.com/ubuntu focal-updates/universe amd64 Packages [1,329 kB]\n",
      "Get:20 http://archive.ubuntu.com/ubuntu focal-updates/restricted amd64 Packages [2,277 kB]\n",
      "Get:21 http://archive.ubuntu.com/ubuntu focal-updates/multiverse amd64 Packages [31.2 kB]\n",
      "Get:22 http://archive.ubuntu.com/ubuntu focal-updates/main amd64 Packages [3,111 kB]\n",
      "Fetched 11.8 MB in 2s (5,908 kB/s)\n",
      "Reading package lists... Done\n",
      "Reading package lists... Done\n",
      "Building dependency tree       \n",
      "Reading state information... Done\n",
      "The following NEW packages will be installed:\n",
      "  edgetpu-compiler\n",
      "0 upgraded, 1 newly installed, 0 to remove and 25 not upgraded.\n",
      "Need to get 7,913 kB of archives.\n",
      "After this operation, 31.2 MB of additional disk space will be used.\n",
      "Get:1 https://packages.cloud.google.com/apt coral-edgetpu-stable/main amd64 edgetpu-compiler amd64 16.0 [7,913 kB]\n",
      "Fetched 7,913 kB in 1s (13.4 MB/s)\n",
      "debconf: unable to initialize frontend: Dialog\n",
      "debconf: (No usable dialog-like program is installed, so the dialog based frontend cannot be used. at /usr/share/perl5/Debconf/FrontEnd/Dialog.pm line 76, <> line 1.)\n",
      "debconf: falling back to frontend: Readline\n",
      "debconf: unable to initialize frontend: Readline\n",
      "debconf: (This frontend requires a controlling tty.)\n",
      "debconf: falling back to frontend: Teletype\n",
      "dpkg-preconfigure: unable to re-open stdin: \n",
      "Selecting previously unselected package edgetpu-compiler.\n",
      "(Reading database ... 122349 files and directories currently installed.)\n",
      "Preparing to unpack .../edgetpu-compiler_16.0_amd64.deb ...\n",
      "Unpacking edgetpu-compiler (16.0) ...\n",
      "Setting up edgetpu-compiler (16.0) ...\n",
      "Processing triggers for libc-bin (2.31-0ubuntu9.9) ...\n"
     ]
    }
   ],
   "source": [
    "! curl https://packages.cloud.google.com/apt/doc/apt-key.gpg | sudo apt-key add -\n",
    "\n",
    "! echo \"deb https://packages.cloud.google.com/apt coral-edgetpu-stable main\" | sudo tee /etc/apt/sources.list.d/coral-edgetpu.list\n",
    "\n",
    "! sudo apt-get update\n",
    "\n",
    "! sudo apt-get install edgetpu-compiler\t"
   ]
  },
  {
   "cell_type": "code",
   "execution_count": 49,
   "metadata": {
    "colab": {
     "base_uri": "https://localhost:8080/"
    },
    "id": "joxrIB0I3cdi",
    "outputId": "6de60bce-4b8e-4900-dd0b-28db0a22660d"
   },
   "outputs": [
    {
     "name": "stdout",
     "output_type": "stream",
     "text": [
      "Edge TPU Compiler version 16.0.384591198\n",
      "Started a compilation timeout timer of 180 seconds.\n",
      "\n",
      "Model compiled successfully in 1112 ms.\n",
      "\n",
      "Input model: Embedded_Devices_mobilenet_v2_1.0_224_quant.tflite\n",
      "Input size: 2.94MiB\n",
      "Output model: Embedded_Devices_mobilenet_v2_1.0_224_quant_edgetpu.tflite\n",
      "Output size: 3.12MiB\n",
      "On-chip memory used for caching model parameters: 3.34MiB\n",
      "On-chip memory remaining for caching model parameters: 4.36MiB\n",
      "Off-chip memory used for streaming uncached model parameters: 0.00B\n",
      "Number of Edge TPU subgraphs: 1\n",
      "Total number of operations: 72\n",
      "Operation log: Embedded_Devices_mobilenet_v2_1.0_224_quant_edgetpu.log\n",
      "See the operation log file for individual operation details.\n",
      "Compilation child process completed within timeout period.\n",
      "Compilation succeeded! \n"
     ]
    }
   ],
   "source": [
    "! edgetpu_compiler Embedded_Devices_mobilenet_v2_1.0_224_quant.tflite"
   ]
  },
  {
   "cell_type": "markdown",
   "metadata": {
    "id": "Oi9-Voc8A7VK"
   },
   "source": [
    "## Download the models"
   ]
  },
  {
   "cell_type": "code",
   "execution_count": 50,
   "metadata": {
    "colab": {
     "base_uri": "https://localhost:8080/",
     "height": 17
    },
    "id": "x47uW_lI1DoV",
    "outputId": "709d2a78-e38d-468b-ced0-c35c4a9882ee"
   },
   "outputs": [
    {
     "data": {
      "application/javascript": [
       "\n",
       "    async function download(id, filename, size) {\n",
       "      if (!google.colab.kernel.accessAllowed) {\n",
       "        return;\n",
       "      }\n",
       "      const div = document.createElement('div');\n",
       "      const label = document.createElement('label');\n",
       "      label.textContent = `Downloading \"${filename}\": `;\n",
       "      div.appendChild(label);\n",
       "      const progress = document.createElement('progress');\n",
       "      progress.max = size;\n",
       "      div.appendChild(progress);\n",
       "      document.body.appendChild(div);\n",
       "\n",
       "      const buffers = [];\n",
       "      let downloaded = 0;\n",
       "\n",
       "      const channel = await google.colab.kernel.comms.open(id);\n",
       "      // Send a message to notify the kernel that we're ready.\n",
       "      channel.send({})\n",
       "\n",
       "      for await (const message of channel.messages) {\n",
       "        // Send a message to notify the kernel that we're ready.\n",
       "        channel.send({})\n",
       "        if (message.buffers) {\n",
       "          for (const buffer of message.buffers) {\n",
       "            buffers.push(buffer);\n",
       "            downloaded += buffer.byteLength;\n",
       "            progress.value = downloaded;\n",
       "          }\n",
       "        }\n",
       "      }\n",
       "      const blob = new Blob(buffers, {type: 'application/binary'});\n",
       "      const a = document.createElement('a');\n",
       "      a.href = window.URL.createObjectURL(blob);\n",
       "      a.download = filename;\n",
       "      div.appendChild(a);\n",
       "      a.click();\n",
       "      div.remove();\n",
       "    }\n",
       "  "
      ],
      "text/plain": [
       "<IPython.core.display.Javascript object>"
      ]
     },
     "metadata": {},
     "output_type": "display_data"
    },
    {
     "data": {
      "application/javascript": [
       "download(\"download_738df50c-c89d-4391-98af-8fc33abcaac7\", \"Embedded_Devices_mobilenet_v2_1.0_224.tflite\", 10341940)"
      ],
      "text/plain": [
       "<IPython.core.display.Javascript object>"
      ]
     },
     "metadata": {},
     "output_type": "display_data"
    },
    {
     "data": {
      "application/javascript": [
       "\n",
       "    async function download(id, filename, size) {\n",
       "      if (!google.colab.kernel.accessAllowed) {\n",
       "        return;\n",
       "      }\n",
       "      const div = document.createElement('div');\n",
       "      const label = document.createElement('label');\n",
       "      label.textContent = `Downloading \"${filename}\": `;\n",
       "      div.appendChild(label);\n",
       "      const progress = document.createElement('progress');\n",
       "      progress.max = size;\n",
       "      div.appendChild(progress);\n",
       "      document.body.appendChild(div);\n",
       "\n",
       "      const buffers = [];\n",
       "      let downloaded = 0;\n",
       "\n",
       "      const channel = await google.colab.kernel.comms.open(id);\n",
       "      // Send a message to notify the kernel that we're ready.\n",
       "      channel.send({})\n",
       "\n",
       "      for await (const message of channel.messages) {\n",
       "        // Send a message to notify the kernel that we're ready.\n",
       "        channel.send({})\n",
       "        if (message.buffers) {\n",
       "          for (const buffer of message.buffers) {\n",
       "            buffers.push(buffer);\n",
       "            downloaded += buffer.byteLength;\n",
       "            progress.value = downloaded;\n",
       "          }\n",
       "        }\n",
       "      }\n",
       "      const blob = new Blob(buffers, {type: 'application/binary'});\n",
       "      const a = document.createElement('a');\n",
       "      a.href = window.URL.createObjectURL(blob);\n",
       "      a.download = filename;\n",
       "      div.appendChild(a);\n",
       "      a.click();\n",
       "      div.remove();\n",
       "    }\n",
       "  "
      ],
      "text/plain": [
       "<IPython.core.display.Javascript object>"
      ]
     },
     "metadata": {},
     "output_type": "display_data"
    },
    {
     "data": {
      "application/javascript": [
       "download(\"download_03fc1d82-d665-40ee-bc30-2f87f34d3383\", \"Embedded_Devices_mobilenet_v2_1.0_224_quant.tflite\", 3081792)"
      ],
      "text/plain": [
       "<IPython.core.display.Javascript object>"
      ]
     },
     "metadata": {},
     "output_type": "display_data"
    },
    {
     "data": {
      "application/javascript": [
       "\n",
       "    async function download(id, filename, size) {\n",
       "      if (!google.colab.kernel.accessAllowed) {\n",
       "        return;\n",
       "      }\n",
       "      const div = document.createElement('div');\n",
       "      const label = document.createElement('label');\n",
       "      label.textContent = `Downloading \"${filename}\": `;\n",
       "      div.appendChild(label);\n",
       "      const progress = document.createElement('progress');\n",
       "      progress.max = size;\n",
       "      div.appendChild(progress);\n",
       "      document.body.appendChild(div);\n",
       "\n",
       "      const buffers = [];\n",
       "      let downloaded = 0;\n",
       "\n",
       "      const channel = await google.colab.kernel.comms.open(id);\n",
       "      // Send a message to notify the kernel that we're ready.\n",
       "      channel.send({})\n",
       "\n",
       "      for await (const message of channel.messages) {\n",
       "        // Send a message to notify the kernel that we're ready.\n",
       "        channel.send({})\n",
       "        if (message.buffers) {\n",
       "          for (const buffer of message.buffers) {\n",
       "            buffers.push(buffer);\n",
       "            downloaded += buffer.byteLength;\n",
       "            progress.value = downloaded;\n",
       "          }\n",
       "        }\n",
       "      }\n",
       "      const blob = new Blob(buffers, {type: 'application/binary'});\n",
       "      const a = document.createElement('a');\n",
       "      a.href = window.URL.createObjectURL(blob);\n",
       "      a.download = filename;\n",
       "      div.appendChild(a);\n",
       "      a.click();\n",
       "      div.remove();\n",
       "    }\n",
       "  "
      ],
      "text/plain": [
       "<IPython.core.display.Javascript object>"
      ]
     },
     "metadata": {},
     "output_type": "display_data"
    },
    {
     "data": {
      "application/javascript": [
       "download(\"download_20980258-17af-408b-99cc-4479b14a33db\", \"Embedded_Devices_mobilenet_v2_1.0_224_quant_edgetpu.tflite\", 3269280)"
      ],
      "text/plain": [
       "<IPython.core.display.Javascript object>"
      ]
     },
     "metadata": {},
     "output_type": "display_data"
    },
    {
     "data": {
      "application/javascript": [
       "\n",
       "    async function download(id, filename, size) {\n",
       "      if (!google.colab.kernel.accessAllowed) {\n",
       "        return;\n",
       "      }\n",
       "      const div = document.createElement('div');\n",
       "      const label = document.createElement('label');\n",
       "      label.textContent = `Downloading \"${filename}\": `;\n",
       "      div.appendChild(label);\n",
       "      const progress = document.createElement('progress');\n",
       "      progress.max = size;\n",
       "      div.appendChild(progress);\n",
       "      document.body.appendChild(div);\n",
       "\n",
       "      const buffers = [];\n",
       "      let downloaded = 0;\n",
       "\n",
       "      const channel = await google.colab.kernel.comms.open(id);\n",
       "      // Send a message to notify the kernel that we're ready.\n",
       "      channel.send({})\n",
       "\n",
       "      for await (const message of channel.messages) {\n",
       "        // Send a message to notify the kernel that we're ready.\n",
       "        channel.send({})\n",
       "        if (message.buffers) {\n",
       "          for (const buffer of message.buffers) {\n",
       "            buffers.push(buffer);\n",
       "            downloaded += buffer.byteLength;\n",
       "            progress.value = downloaded;\n",
       "          }\n",
       "        }\n",
       "      }\n",
       "      const blob = new Blob(buffers, {type: 'application/binary'});\n",
       "      const a = document.createElement('a');\n",
       "      a.href = window.URL.createObjectURL(blob);\n",
       "      a.download = filename;\n",
       "      div.appendChild(a);\n",
       "      a.click();\n",
       "      div.remove();\n",
       "    }\n",
       "  "
      ],
      "text/plain": [
       "<IPython.core.display.Javascript object>"
      ]
     },
     "metadata": {},
     "output_type": "display_data"
    },
    {
     "data": {
      "application/javascript": [
       "download(\"download_8c0030a4-5c36-4914-8886-02b29cb639b7\", \"Embedded_Devices_Class_Labels.txt\", 59)"
      ],
      "text/plain": [
       "<IPython.core.display.Javascript object>"
      ]
     },
     "metadata": {},
     "output_type": "display_data"
    }
   ],
   "source": [
    "from google.colab import files\n",
    "files.download('Embedded_Devices_mobilenet_v2_1.0_224.tflite')\n",
    "files.download('Embedded_Devices_mobilenet_v2_1.0_224_quant.tflite')\n",
    "files.download('Embedded_Devices_mobilenet_v2_1.0_224_quant_edgetpu.tflite')\n",
    "files.download('Embedded_Devices_Class_Labels.txt')"
   ]
  },
  {
   "cell_type": "markdown",
   "metadata": {
    "id": "_TZTwG7nhm0C"
   },
   "source": [
    "## Run the model on the Edge TPU\n",
    "\n",
    "\n"
   ]
  },
  {
   "cell_type": "markdown",
   "metadata": {
    "id": "RwywT4ZpQjLf"
   },
   "source": [
    "* Example model run on the  Coral TPU device\n",
    "\n",
    "```\n",
    "python3 classify_image.py \\\n",
    "  --model Embedded_Devices_mobilenet_v2_1.0_224_quant_edgetpu.tflite \\\n",
    "  --labels Embedded_Devices_Class_Labels.txt \\\n",
    "  --input <TEST PIC NAME>.jpg\n",
    "```"
   ]
  }
 ],
 "metadata": {
  "accelerator": "GPU",
  "colab": {
   "provenance": []
  },
  "gpuClass": "standard",
  "kernelspec": {
   "display_name": "Python 3 (ipykernel)",
   "language": "python",
   "name": "python3"
  },
  "language_info": {
   "codemirror_mode": {
    "name": "ipython",
    "version": 3
   },
   "file_extension": ".py",
   "mimetype": "text/x-python",
   "name": "python",
   "nbconvert_exporter": "python",
   "pygments_lexer": "ipython3",
   "version": "3.10.0"
  }
 },
 "nbformat": 4,
 "nbformat_minor": 1
}
